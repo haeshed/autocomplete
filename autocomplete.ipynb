{
  "cells": [
    {
      "cell_type": "markdown",
      "metadata": {
        "id": "fTnck6BljvdT"
      },
      "source": [
        "# Autocomplete\n",
        "\n",
        "In this section, we will explore the autocomplete algorithm. Autocomplete is a feature commonly used in applications, providing word or phrase suggestions as users type. We will be working on implementing this functionality using a data structure called a Trie, as seen on class.\n",
        "\n",
        "To get started, we will load a dataset that will serve as the basis for your autocomplete system. We will use the Hugging Face `datasets` library. **Hugging Face** is a leading platform for NLP and Machine Learning that provides access to state-of-the-art models, datasets, and tools for developing and deploying applications in the field of natural language understanding. Familiarizing yourself with this platform is valuable if you're interested in NLP and ML."
      ]
    },
    {
      "cell_type": "markdown",
      "metadata": {
        "id": "L_mdOgahev9D"
      },
      "source": [
        "\n",
        "Before we can load the dataset, we need to install the `datasets` library. The following command will install it: `!pip install datasets -q`"
      ]
    },
    {
      "cell_type": "code",
      "execution_count": 1,
      "metadata": {
        "id": "1xY3_EcdeybK"
      },
      "outputs": [],
      "source": [
        "# install the necessary library\n",
        "!pip install datasets -q"
      ]
    },
    {
      "cell_type": "code",
      "execution_count": 2,
      "metadata": {
        "id": "4gguwoGx9AK9"
      },
      "outputs": [],
      "source": [
        "# import and load the dataset\n",
        "from datasets import load_dataset\n",
        "import string\n",
        "from IPython.display import display, HTML, clear_output\n",
        "import ipywidgets as widgets\n",
        "ds = load_dataset(\"google_wellformed_query\")"
      ]
    },
    {
      "cell_type": "code",
      "execution_count": 3,
      "metadata": {
        "id": "rLE5yN7skDOo"
      },
      "outputs": [
        {
          "name": "stdout",
          "output_type": "stream",
          "text": [
            "dict_keys(['train', 'test', 'validation'])\n",
            "17500\n",
            "3750\n",
            "3850\n",
            "{'rating': [0.20000000298023224, 0.4000000059604645], 'content': ['The European Union includes how many ?', 'What are Mia Hamms accomplishment ?']}\n"
          ]
        }
      ],
      "source": [
        "# explore ds properties\n",
        "print(ds.keys())\n",
        "print(len(ds['train']))\n",
        "print(len(ds['validation']))\n",
        "print(len(ds['test']))\n",
        "print(ds['train'][:2])"
      ]
    },
    {
      "cell_type": "markdown",
      "metadata": {
        "id": "1FpmhpNAez6V"
      },
      "source": [
        "## Question 4 (5 points):\n",
        "\n",
        "Write a function `read_data` to read and preprocess the data.\n",
        "\n",
        "We'll use a dataset called `google_wellformed_query`. Google's query wellformedness dataset was created by crowdsourcing well-formedness annotations for 25,100 queries from the Paralex corpus. Each query in this dataset has been annotated by five raters, each providing a rating of 1 or 0 to indicate whether or not the query is well-formed. A rating of 1 suggests that the query is well-formed, while a rating of 0 suggests otherwise.\n",
        "\n",
        "Note: For this assignment, you only need to work with the `train` split of the dataset."
      ]
    },
    {
      "cell_type": "code",
      "execution_count": 4,
      "metadata": {
        "id": "l8FT4PnLfJfd"
      },
      "outputs": [],
      "source": [
        "def read_data(dataset, rate):\n",
        "    \"\"\"\n",
        "    This function reads data from a dataset and filters it based on a specified rating threshold.\n",
        "\n",
        "    Args:\n",
        "        dataset (dict): The dataset to read from.\n",
        "        rate (float): The rating threshold. Sentences with a rating greater than or equal to this threshold will be included in the output.\n",
        "\n",
        "    Returns:\n",
        "        list: A list of the sentences.\n",
        "    \"\"\"\n",
        "    sentences = [sentence['content'] for sentence in ds['train'] if sentence['rating'] >= rate]\n",
        "    return sentences"
      ]
    },
    {
      "cell_type": "code",
      "execution_count": 5,
      "metadata": {
        "id": "cnbdZ0MYjc_H"
      },
      "outputs": [],
      "source": [
        "# Read the data using the dataset library and your function here:\n",
        "# Enter desired rate\n",
        "rate = 0.7\n",
        "sentences = read_data(ds,rate)"
      ]
    },
    {
      "cell_type": "markdown",
      "metadata": {
        "id": "0mTFeUnHiYKs"
      },
      "source": [
        "## Question 5 (15 points):\n",
        "\n",
        "Complete the Autocomplete function we saw in class, which provides automatic word completions as follows:\n",
        "\n",
        "*   The function should accept user input as a complete sentence.\n",
        "*   It will simulate word-by-word printing.\n",
        "*   Suggestions will be based on probability calculations within a Trie data structure.\n",
        "*   Probabilities are determined by counters, representing word occurrences in the Trie.\n",
        "\n",
        "**Example:**\n",
        "\n",
        "User types **\"How do you make the perfect pizza?\"**, your function returns the following:\n",
        "*   **How** many calories in a cup of bluberries\n",
        "*   **How do** you change the alternator belt on a 1998 audi a4\n",
        "*   **How do you** make the perfect pizza?\n",
        "*   **How do you make** the perfect pizza?\n",
        "*   **How do you make the** perfect pizza?\n",
        "*   **How do you make the perfect** pizza?\n",
        "*   **How do you make the perfect pizza?**\n",
        "\n",
        "**Note:** This is an example based on a specific dataset. Changing or expanding the dataset could potentially yield better results.\n",
        "\n",
        "**Feel free to make changes and adjustments to the code.**"
      ]
    },
    {
      "cell_type": "code",
      "execution_count": 6,
      "metadata": {
        "id": "ebj_uxg87Z5G"
      },
      "outputs": [],
      "source": [
        "class TrieNode(object):\n",
        "    \"\"\"\n",
        "    Our trie node implementation. Very basic, but does the job.\n",
        "      word: The word associated with the node.\n",
        "      children: A list of child nodes.\n",
        "      sentence_finished: A boolean indicating if the current node marks the end of a sentence.\n",
        "      counter: A count of how many times the word associated with this node has appeared in the addition process.\n",
        "    \"\"\"\n",
        "    def __init__(self, word):\n",
        "        self.word = word\n",
        "        self.children = []\n",
        "        # Is it the last word of the sentence.\n",
        "        self.sentence_finished = False\n",
        "        # How many times this word appeared in the addition process\n",
        "        self.counter = 1\n",
        "\n",
        "class Trie():\n",
        "    def __init__(self, text):\n",
        "        \"\"\"\n",
        "        Init a Trie with the given sentences list.\n",
        "        During initialization, it removes punctuation, converts sentences to lowercase, and adds them to the Trie using the add method.\n",
        "        \"\"\"\n",
        "        self.root = TrieNode('*')\n",
        "        self.text = text\n",
        "        self.punctuation = set(string.punctuation)\n",
        "        for sentence in self.text:\n",
        "            sentence = ''.join(char for char in sentence if char not in self.punctuation)\n",
        "            self.add(sentence.lower())\n",
        "\n",
        "    def add(self, sentence):\n",
        "        \"\"\"\n",
        "        This method adds a sentence to the Trie structure.\n",
        "        It breaks the sentence into words, and for each word, it traverses the Trie, adding new nodes as necessary or updating existing nodes.\n",
        "        \"\"\"\n",
        "        node = self.root\n",
        "        # root == *\n",
        "        for word in sentence.split():\n",
        "            found_in_child = False\n",
        "            # Search for the word in the children of the present `node`\n",
        "            for child in node.children:\n",
        "                if child.word == word:\n",
        "                    # We found it, increase the counter by 1 to keep track that another word has it as well\n",
        "                    child.counter += 1\n",
        "                    # And point the node to the child that contains this char\n",
        "                    node = child\n",
        "                    found_in_child = True\n",
        "                    break\n",
        "            # We did not find it so add a new chlid\n",
        "            if not found_in_child:\n",
        "                new_node = TrieNode(word)\n",
        "                node.children.append(new_node)\n",
        "                # And then point node to the new child\n",
        "                node = new_node\n",
        "        # Everything finished. Mark it as the end of a word.\n",
        "        node.sentence_finished = True\n",
        "\n",
        "    def find_prefix(self, prefix):\n",
        "        \"\"\"\n",
        "        Check and return\n",
        "          1. If the prefix exsists in any of the words we added so far\n",
        "          2. If yes then how many words actually have the prefix\n",
        "          3. The node where the prefix ends in the Trie structure\n",
        "        \"\"\"\n",
        "        node = self.root\n",
        "        # If the root node has no children, then return False.\n",
        "        # Because it means we are trying to search in an empty trie\n",
        "        if not self.root.children:\n",
        "            return False, 0, node\n",
        "\n",
        "        for word in prefix.split():\n",
        "            word_not_found = True\n",
        "            # Search through all the children of the present `node`\n",
        "            for child in node.children:\n",
        "                if child.word == word:\n",
        "                    # We found the word existing in the child.\n",
        "                    word_not_found = False\n",
        "                    # Assign node as the child containing the word and break\n",
        "                    node = child\n",
        "                    break\n",
        "            # Return False anyway when we did not find a word.\n",
        "            if word_not_found:\n",
        "                return False, 0, node\n",
        "        # Well, we are here means we have found the prefix. Return true to indicate that\n",
        "        # And also the counter of the last node. This indicates how many words have this\n",
        "        # prefix\n",
        "        return True, node.counter, node\n",
        "\n",
        "    def list_all_children(self, prefix):\n",
        "        \"\"\"\n",
        "        Returns all the children of the node at the end of a prefix, with the counter for each child\n",
        "        \"\"\"\n",
        "        node = self.root\n",
        "        auto_complete_sentence = prefix\n",
        "        (exists, counter, node) = self.find_prefix(auto_complete_sentence)\n",
        "        prefixes = []\n",
        "        if exists:\n",
        "          for child in node.children:\n",
        "            prefixes.append((child.word, child.counter))\n",
        "\n",
        "        return prefixes\n",
        "\n",
        "    def auto_complete(self, prefix):\n",
        "        \"\"\"\n",
        "        Suggests the most probable word completion for a given prefix.\n",
        "\n",
        "        Args:\n",
        "        - prefix (str): The input prefix to autocomplete.\n",
        "\n",
        "        Returns:\n",
        "        - suggestion (str): The suggested word completion.\n",
        "        \"\"\"\n",
        "        sentence = prefix\n",
        "        suggestion_options = self.list_all_children(sentence)\n",
        "        suggestion = ''\n",
        "        while suggestion_options:\n",
        "          # find most appeared word in children\n",
        "          max_word = max(suggestion_options, key=lambda x: x[1])\n",
        "          suggestion += ' ' + max_word[0]\n",
        "          suggestion_options = self.list_all_children(sentence + suggestion)\n",
        "        return suggestion\n",
        "\n",
        "    def display_autocomplete(self, user_input):\n",
        "        # Display autocomplete suggestion with HTML formatting\n",
        "        suggestion = self.auto_complete(self._clean_input(user_input))\n",
        "        html_output = f'{user_input} <span style=\"color: #87CEEB;\">{suggestion}</span>'\n",
        "        display(HTML(html_output))\n",
        "\n",
        "    def _clean_input(self, text):\n",
        "      return ''.join(char for char in text.lower() if char not in set(string.punctuation))\n",
        "\n",
        "    def init_auto_complete(self):\n",
        "        \"\"\"\n",
        "        Initializes the auto-complete system and allows the user to interactively\n",
        "        input prefixes and get suggestions.\n",
        "\n",
        "        \"\"\"\n",
        "        print(\"Type here (press 'Ctrl+M+I' to exit):\")\n",
        "\n",
        "        try:\n",
        "            while True:\n",
        "                user_input = input()\n",
        "                func_input = ''\n",
        "                for word in user_input.split():\n",
        "                  func_input += ' ' + word\n",
        "                  self.display_autocomplete(func_input)\n",
        "        except KeyboardInterrupt:\n",
        "            print(\"\\nExiting auto-complete system.\")\n",
        "\n"
      ]
    },
    {
      "cell_type": "code",
      "execution_count": 7,
      "metadata": {
        "id": "CwOObMUdH2al"
      },
      "outputs": [
        {
          "name": "stdout",
          "output_type": "stream",
          "text": [
            "Type here (press 'Ctrl+M+I' to exit):\n"
          ]
        },
        {
          "data": {
            "text/html": [
              " How <span style=\"color: #87CEEB;\"> many calories are in a bowl of ramen noodles</span>"
            ],
            "text/plain": [
              "<IPython.core.display.HTML object>"
            ]
          },
          "metadata": {},
          "output_type": "display_data"
        },
        {
          "data": {
            "text/html": [
              " How do <span style=\"color: #87CEEB;\"> you change the alternator belt on a 1998 audi a4</span>"
            ],
            "text/plain": [
              "<IPython.core.display.HTML object>"
            ]
          },
          "metadata": {},
          "output_type": "display_data"
        },
        {
          "data": {
            "text/html": [
              " How do you <span style=\"color: #87CEEB;\"> change the alternator belt on a 1998 audi a4</span>"
            ],
            "text/plain": [
              "<IPython.core.display.HTML object>"
            ]
          },
          "metadata": {},
          "output_type": "display_data"
        },
        {
          "data": {
            "text/html": [
              " How do you make <span style=\"color: #87CEEB;\"> the perfect pizza</span>"
            ],
            "text/plain": [
              "<IPython.core.display.HTML object>"
            ]
          },
          "metadata": {},
          "output_type": "display_data"
        },
        {
          "data": {
            "text/html": [
              " How do you make the <span style=\"color: #87CEEB;\"> perfect pizza</span>"
            ],
            "text/plain": [
              "<IPython.core.display.HTML object>"
            ]
          },
          "metadata": {},
          "output_type": "display_data"
        },
        {
          "data": {
            "text/html": [
              " How do you make the perfect <span style=\"color: #87CEEB;\"> pizza</span>"
            ],
            "text/plain": [
              "<IPython.core.display.HTML object>"
            ]
          },
          "metadata": {},
          "output_type": "display_data"
        },
        {
          "data": {
            "text/html": [
              " How do you make the perfect pizza? <span style=\"color: #87CEEB;\"></span>"
            ],
            "text/plain": [
              "<IPython.core.display.HTML object>"
            ]
          },
          "metadata": {},
          "output_type": "display_data"
        },
        {
          "name": "stdout",
          "output_type": "stream",
          "text": [
            "\n",
            "Exiting auto-complete system.\n"
          ]
        }
      ],
      "source": [
        "# Example:\n",
        "t = Trie(sentences)\n",
        "\n",
        "t.init_auto_complete()"
      ]
    }
  ],
  "metadata": {
    "colab": {
      "provenance": []
    },
    "kernelspec": {
      "display_name": "Python 3",
      "name": "python3"
    },
    "language_info": {
      "codemirror_mode": {
        "name": "ipython",
        "version": 3
      },
      "file_extension": ".py",
      "mimetype": "text/x-python",
      "name": "python",
      "nbconvert_exporter": "python",
      "pygments_lexer": "ipython3",
      "version": "3.10.11"
    }
  },
  "nbformat": 4,
  "nbformat_minor": 0
}
